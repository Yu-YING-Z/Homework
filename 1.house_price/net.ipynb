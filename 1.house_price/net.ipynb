{
 "cells": [
  {
   "cell_type": "code",
   "execution_count": 1,
   "id": "13870cf2-a9ab-416c-8aa3-efc26fdfaf3d",
   "metadata": {},
   "outputs": [],
   "source": [
    "# %load ./net.py\n",
    "import torch.nn as nn\n",
    "import torch.nn.functional as F  \n",
    "\n",
    "class housing_NN(nn.Module):\n",
    "    def __init__(self):\n",
    "        super().__init__()\n",
    "        self.hidden1=nn.Linear(13,128)\n",
    "        self.hidden2=nn.Linear(128,256)\n",
    "        self.hidden3=nn.Linear(256,256)\n",
    "        self.out=nn.Linear(256,1)\n",
    "        self.drop=nn.Dropout(0.05)\n",
    "    def forward(self,x):\n",
    "        x=F.relu(self.hidden1(x))\n",
    "        x=self.drop(x)\n",
    "        x=F.relu(self.hidden2(x))\n",
    "        x=self.drop(x)\n",
    "        x=F.relu(self.hidden3(x))\n",
    "        x=self.drop(x)\n",
    "        x=self.out(x)\n",
    "        x=x.squeeze(-1)\n",
    "        return x\n"
   ]
  },
  {
   "cell_type": "markdown",
   "id": "be3c60a4-abac-421c-8d25-0eb49f04b7ff",
   "metadata": {},
   "source": [
    "sd"
   ]
  },
  {
   "cell_type": "code",
   "execution_count": null,
   "id": "97291f90-1c1a-47c1-b7f2-d1e0d3e61598",
   "metadata": {},
   "outputs": [],
   "source": []
  }
 ],
 "metadata": {
  "kernelspec": {
   "display_name": "Python [conda env:base] *",
   "language": "python",
   "name": "conda-base-py"
  },
  "language_info": {
   "codemirror_mode": {
    "name": "ipython",
    "version": 3
   },
   "file_extension": ".py",
   "mimetype": "text/x-python",
   "name": "python",
   "nbconvert_exporter": "python",
   "pygments_lexer": "ipython3",
   "version": "3.12.7"
  }
 },
 "nbformat": 4,
 "nbformat_minor": 5
}
